{
 "cells": [
  {
   "cell_type": "code",
   "execution_count": null,
   "metadata": {},
   "outputs": [],
   "source": [
    "import sys, os\n",
    "import numpy as np\n",
    "import matplotlib.pyplot as plt\n",
    "import scipy.io as sio\n",
    "%matplotlib inline\n",
    "\n",
    "from importlib import reload\n",
    "sys.path.append(os.path.dirname(os.getcwd()) ) # add hextof-processor to path\n",
    "from processor.DldFlashDataframeCreatorExpress import DldFlashProcessorExpress, DldProcessor\n",
    "import processor.utilities as utils"
   ]
  },
  {
   "cell_type": "code",
   "execution_count": null,
   "metadata": {},
   "outputs": [],
   "source": [
    "runs = [22137, 22133, 22135, 22138]\n",
    "energies = [26.5, 29, 29.5, 31.5]\n",
    "Tfrom = range(640, 720, 20)\n",
    "Tto = range(780, 860, 20)\n",
    "processor = DldFlashProcessor.DldFlashProcessor()\n",
    "res = []\n",
    "for ir, run in enumerate(runs):\n",
    "    processor.runNumber = run\n",
    "\n",
    "    ToFfrom = 600\n",
    "    ToFto = 900\n",
    "    ToFstep = 30*processor.TOF_STEP_TO_NS\n",
    "\n",
    "    # delay parameters\n",
    "    delayFrom = -534.6\n",
    "    delayTo = -509.5\n",
    "    delayStep = 0.1\n",
    "\n",
    "    dldFrom = 0\n",
    "    dldTo = 2800\n",
    "    dldStep = 35\n",
    "\n",
    "    try:\n",
    "        processor.readDataframes()\n",
    "    except:\n",
    "        processor.readData()\n",
    "        processor.storeDataframes()\n",
    "    # BAM correction\n",
    "    processor.postProcess()\n",
    "\n",
    "    processor.resetBins()\n",
    "    processor.addFilter('microbunchId', lb=100, ub=400)\n",
    "    pX = processor.addBinning('dldPosX', dldFrom, dldTo, dldStep)\n",
    "    pY = processor.addBinning('dldPosY', dldFrom, dldTo, dldStep)\n",
    "    ToF = processor.addBinning('dldTime', ToFfrom, ToFto, ToFstep)\n",
    "    res.append(processor.computeBinnedData())\n",
    "res = np.asarray(res)"
   ]
  },
  {
   "cell_type": "code",
   "execution_count": null,
   "metadata": {},
   "outputs": [],
   "source": [
    "res.shape"
   ]
  },
  {
   "cell_type": "code",
   "execution_count": null,
   "metadata": {},
   "outputs": [],
   "source": [
    "plt.imshow(res[40,:,:])"
   ]
  },
  {
   "cell_type": "code",
   "execution_count": null,
   "metadata": {},
   "outputs": [],
   "source": [
    "edc265 = res[0,:].mean(axis=(0,1))\n",
    "edc290 = res[1,:].mean(axis=(0,1))\n",
    "edc295 = res[2,:].mean(axis=(0,1))\n",
    "edc315 = res[3,:].mean(axis=(0,1))\n",
    "\n",
    "plt.figure(figsize=(10,4))\n",
    "plt.plot(edc265, label='bias = 26.5 V')\n",
    "plt.plot(edc290, label='bias = 29.0 V')\n",
    "plt.plot(edc295, label='bias = 29.5 V')\n",
    "plt.plot(edc315, label='bias = 31.5 V')\n",
    "plt.legend()"
   ]
  },
  {
   "cell_type": "code",
   "execution_count": null,
   "metadata": {},
   "outputs": [],
   "source": [
    "# Find the optimal shift parameter between the energy calibration scans"
   ]
  },
  {
   "cell_type": "code",
   "execution_count": null,
   "metadata": {},
   "outputs": [],
   "source": [
    "sio.savemat('calib.mat', {'ToF':ToF, 'pX':pX, 'pY':pY, 'curves':res})"
   ]
  }
 ],
 "metadata": {
  "kernelspec": {
   "display_name": "hextof-express",
   "language": "python",
   "name": "hextof-express"
  },
  "language_info": {
   "codemirror_mode": {
    "name": "ipython",
    "version": 3
   },
   "file_extension": ".py",
   "mimetype": "text/x-python",
   "name": "python",
   "nbconvert_exporter": "python",
   "pygments_lexer": "ipython3",
   "version": "3.8.10"
  }
 },
 "nbformat": 4,
 "nbformat_minor": 4
}
