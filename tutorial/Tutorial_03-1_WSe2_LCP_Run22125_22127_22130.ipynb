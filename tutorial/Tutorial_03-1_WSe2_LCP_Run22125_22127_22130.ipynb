{
 "cells": [
  {
   "cell_type": "code",
   "execution_count": null,
   "metadata": {},
   "outputs": [],
   "source": [
    "import sys, os\n",
    "import numpy as np\n",
    "import matplotlib.pyplot as plt\n",
    "import scipy.io as sio\n",
    "%matplotlib inline\n",
    "import tifffile as ti\n",
    "\n",
    "from importlib import reload\n",
    "sys.path.append(os.path.dirname(os.getcwd()) ) # add hextof-processor to path\n",
    "from processor.DldFlashDataframeCreatorExpress import DldFlashProcessorExpress, DldProcessor\n",
    "import processor.utilities as utils"
   ]
  },
  {
   "cell_type": "code",
   "execution_count": null,
   "metadata": {},
   "outputs": [],
   "source": [
    "processor = DldFlashProcessor.DldFlashProcessor()\n",
    "processor.runNumber = 22124\n",
    "\n",
    "ToFfrom = 660\n",
    "ToFto = 690\n",
    "ToFstep = 30*processor.TOF_STEP_TO_NS\n",
    "\n",
    "# delay parameters\n",
    "delayFrom = -514.1\n",
    "delayTo = -509.5\n",
    "delayStep = 0.02\n",
    "\n",
    "dldFrom = 0\n",
    "dldTo = 2800\n",
    "dldStep = 35\n",
    "\n",
    "try:\n",
    "    processor.readDataframes()\n",
    "except:\n",
    "    processor.readData()\n",
    "    processor.storeDataframes()\n",
    "# BAM correction\n",
    "processor.postProcess()\n",
    "\n",
    "# Filter by macrobunch\n",
    "processor.addFilter('dldMicrobunchId', lb=100, ub=400)\n",
    "\n",
    "processor.resetBins()\n",
    "pX = processor.addBinning('dldPosX',dldFrom,dldTo,dldStep)\n",
    "pY = processor.addBinning('dldPosY',dldFrom,dldTo,dldStep)\n",
    "ToF = processor.addBinning('dldTime', ToFfrom,ToFto,ToFstep)\n",
    "delay = processor.addBinning('pumpProbeTime', delayFrom,delayTo,delayStep)\n",
    "res = processor.computeBinnedData()"
   ]
  },
  {
   "cell_type": "code",
   "execution_count": null,
   "metadata": {},
   "outputs": [],
   "source": [
    "res.shape"
   ]
  },
  {
   "cell_type": "code",
   "execution_count": null,
   "metadata": {},
   "outputs": [],
   "source": [
    "from h5py import File\n",
    "def hdf5Writer(binaxes, binned=None, cutaxis=0, save_addr=r'./', typ='float64'):\n",
    "    \n",
    "    hdf = File(save_addr, 'w')\n",
    "    nbinaxes = len(binaxes)\n",
    "    \n",
    "    try:\n",
    "        # Save the binned data\n",
    "        # Save 1-3D data as single datasets\n",
    "        if nbinaxes < 4:\n",
    "            hdf.create_dataset('binned/V', data=binned.astype(typ))\n",
    "        # Save 4D data as a list of separated 3D datasets\n",
    "        elif nbinaxes == 4:\n",
    "            nddata = np.rollaxis(binned, cutaxis)\n",
    "            n = nddata.shape[0]\n",
    "            for i in range(n):\n",
    "                hdf.create_dataset('binned/V'+str(i), data=nddata[i,...].astype(typ))\n",
    "        else:\n",
    "            raise NotImplementedError('High dimensional data format undefined!')\n",
    "\n",
    "        # Save the axes in the same group\n",
    "        for k, v in binaxes.items():\n",
    "            hdf.create_dataset('axes/'+k, data=v.astype(typ))\n",
    "    \n",
    "    except:\n",
    "        pass\n",
    "    \n",
    "    finally:\n",
    "        \n",
    "        hdf.close()"
   ]
  },
  {
   "cell_type": "code",
   "execution_count": null,
   "metadata": {},
   "outputs": [],
   "source": [
    "hdf5Writer(binaxes={'ToF':ToF, 'pX':pX, 'pY':pY, 'tPP':delay}, binned=res, \\\n",
    "           save_addr='./Run=22125_4axis_80x80x146x230.h5', typ='float32')"
   ]
  },
  {
   "cell_type": "code",
   "execution_count": null,
   "metadata": {},
   "outputs": [],
   "source": [
    "plt.imshow(res[:,:,:80,:].sum(axis=(0,1)), aspect='auto', vmax=10)"
   ]
  },
  {
   "cell_type": "code",
   "execution_count": null,
   "metadata": {},
   "outputs": [],
   "source": [
    "plt.imshow(res[45:,:,:,:150].sum(axis=(0,3)), vmax=10)"
   ]
  },
  {
   "cell_type": "markdown",
   "metadata": {},
   "source": [
    "### Pump power vs microbunch ID"
   ]
  },
  {
   "cell_type": "code",
   "execution_count": null,
   "metadata": {},
   "outputs": [],
   "source": [
    "processor = DldFlashProcessor.DldFlashProcessor()\n",
    "processor.runNumber = 22130\n",
    "\n",
    "try:\n",
    "    processor.readDataframes()\n",
    "except:\n",
    "    processor.readData()\n",
    "    processor.storeDataframes()\n",
    "# BAM correction\n",
    "processor.postProcess()\n",
    "\n",
    "processor.resetBins()\n",
    "mid = processor.addBinning('dldMicrobunchId', 0, 500, 1)\n",
    "opticalDiode = processor.addBinning('opticalDiode', 15000, 125000, 500)\n",
    "#delay = processor.addBinning('pumpProbeTime', delayFrom,delayTo,delayStep)\n",
    "respd = processor.computeBinnedData()"
   ]
  },
  {
   "cell_type": "code",
   "execution_count": null,
   "metadata": {},
   "outputs": [],
   "source": [
    "plt.plot(mid, np.argmax(respd, axis=1))"
   ]
  },
  {
   "cell_type": "code",
   "execution_count": null,
   "metadata": {},
   "outputs": [],
   "source": [
    "res22130 = respd.copy()"
   ]
  },
  {
   "cell_type": "code",
   "execution_count": null,
   "metadata": {},
   "outputs": [],
   "source": [
    "plt.figure(figsize=(10,5))\n",
    "plt.plot(mid, opticalDiode[np.argmax(res22125, axis=1)], label='Run 22125')\n",
    "plt.plot(mid, opticalDiode[np.argmax(res22127, axis=1)], label='Run 22127')\n",
    "plt.plot(mid, opticalDiode[np.argmax(res22130, axis=1)], label='Run 22130')\n",
    "plt.legend()\n",
    "plt.title('Average photodiode reading, Runs 22125, 22127, 22130', fontsize=15)\n",
    "plt.xlabel('FEL microbunch ID', fontsize=15)\n",
    "plt.ylabel('Photodiode reading (a.u.)', fontsize=15)\n",
    "plt.savefig('Photodiode_Run22125-22130.png', bbox_inches='tight', dpi=300)"
   ]
  },
  {
   "cell_type": "code",
   "execution_count": null,
   "metadata": {},
   "outputs": [],
   "source": [
    "binres = np.concatenate((res22125, res22127, res22130), axis=0)"
   ]
  },
  {
   "cell_type": "code",
   "execution_count": null,
   "metadata": {},
   "outputs": [],
   "source": [
    "hdf5Writer(binaxes={'OD':opticalDiode, 'uID':mid, 'scans':[22124, 22126, 22128]}, \\\n",
    "           binned=binres, save_addr='./Run=22125_22127_22130_Diode.h5', typ='float32')"
   ]
  },
  {
   "cell_type": "markdown",
   "metadata": {},
   "source": [
    "### Obtain pump-off states"
   ]
  },
  {
   "cell_type": "code",
   "execution_count": null,
   "metadata": {},
   "outputs": [],
   "source": [
    "processor = DldFlashProcessor.DldFlashProcessor()\n",
    "processor.runNumber = 22130\n",
    "\n",
    "ToFfrom = 660\n",
    "ToFto = 760\n",
    "ToFstep = 80*processor.TOF_STEP_TO_NS\n",
    "\n",
    "# delay parameters\n",
    "delayFrom = -514.1\n",
    "delayTo = -508.8\n",
    "delayStep = 0.1\n",
    "\n",
    "dldFrom = 0\n",
    "dldTo = 2800\n",
    "dldStep = 25\n",
    "\n",
    "try:\n",
    "    processor.readDataframes()\n",
    "except:\n",
    "    processor.readData()\n",
    "    processor.storeDataframes()\n",
    "# BAM correction\n",
    "processor.postProcess()\n",
    "processor.shiftQuadrants()\n",
    "\n",
    "# Filter by macrobunch\n",
    "processor.addFilter('dldMicrobunchId', lb=100, ub=400)\n",
    "\n",
    "processor.resetBins()\n",
    "pX = processor.addBinning('dldPosX',dldFrom,dldTo,dldStep)\n",
    "pY = processor.addBinning('dldPosY',dldFrom,dldTo,dldStep)\n",
    "ToF = processor.addBinning('dldTime', ToFfrom,ToFto,ToFstep)\n",
    "delay = processor.addBinning('pumpProbeTime', delayFrom,delayTo,delayStep)\n",
    "res = processor.computeBinnedData()"
   ]
  },
  {
   "cell_type": "code",
   "execution_count": null,
   "metadata": {},
   "outputs": [],
   "source": [
    "res.shape"
   ]
  },
  {
   "cell_type": "code",
   "execution_count": null,
   "metadata": {},
   "outputs": [],
   "source": [
    "plt.plot(res[:,:,10:25,34:45].sum(axis=(0,1,2)))"
   ]
  },
  {
   "cell_type": "code",
   "execution_count": null,
   "metadata": {},
   "outputs": [],
   "source": [
    "pret0 = res[:,:,:,34:45]\n",
    "plt.imshow(pret0[:,:,10:30,:].sum(axis=(2,3)), cmap='terrain_r', vmax=10)"
   ]
  },
  {
   "cell_type": "code",
   "execution_count": null,
   "metadata": {},
   "outputs": [],
   "source": [
    "hdf5Writer(binaxes={'ToF':ToF, 'pX':pX, 'pY':pY, 'tPP':delay}, binned=res, \\\n",
    "           save_addr='./Run=22130_4axis_112x112x183x54.h5', typ='float32')"
   ]
  },
  {
   "cell_type": "code",
   "execution_count": null,
   "metadata": {},
   "outputs": [],
   "source": [
    "ti.imsave('./WSe2_FLASH_Beamtime_22130_pret0.tiff', data=pret0.sum(axis=3).astype('float32'))"
   ]
  },
  {
   "cell_type": "markdown",
   "metadata": {},
   "source": [
    "### Combine pre-t0 data"
   ]
  },
  {
   "cell_type": "code",
   "execution_count": null,
   "metadata": {},
   "outputs": [],
   "source": [
    "pre125 = ti.imread('./WSe2_FLASH_Beamtime_22125_pret0.tiff')\n",
    "pre127 = ti.imread('./WSe2_FLASH_Beamtime_22127_pret0.tiff')\n",
    "pre130 = ti.imread('./WSe2_FLASH_Beamtime_22130_pret0.tiff')"
   ]
  },
  {
   "cell_type": "code",
   "execution_count": null,
   "metadata": {},
   "outputs": [],
   "source": [
    "pret0 = pre125 + pre127 + pre130\n",
    "ti.imsave('./WSe2_FLASH_Beamtime_22125-22130_pret0.tiff', data=pret0.astype('float32'))"
   ]
  },
  {
   "cell_type": "code",
   "execution_count": null,
   "metadata": {},
   "outputs": [],
   "source": []
  }
 ],
 "metadata": {
  "kernelspec": {
   "display_name": "hextof-express",
   "language": "python",
   "name": "hextof-express"
  },
  "language_info": {
   "codemirror_mode": {
    "name": "ipython",
    "version": 3
   },
   "file_extension": ".py",
   "mimetype": "text/x-python",
   "name": "python",
   "nbconvert_exporter": "python",
   "pygments_lexer": "ipython3",
   "version": "3.8.10"
  }
 },
 "nbformat": 4,
 "nbformat_minor": 4
}
