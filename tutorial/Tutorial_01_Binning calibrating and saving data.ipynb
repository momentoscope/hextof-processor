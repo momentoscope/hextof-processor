{
 "cells": [
  {
   "cell_type": "markdown",
   "metadata": {},
   "source": [
    "# HEXTOF-processor binning procedure tutorial\n",
    "\n",
    "This notebook is an example of how to use the hextof-processor to process raw data from the FLASH DAQ raw data format, into binned arrays. These can then be used for analysis with the users favourite tools.\n",
    "\n",
    "The procedure described here is divided in two sections. First, a direct binning in the raw data axis is presented. The second includes calibration of Binding Energy and pump-probe time delay axes and allows binning in the desired physical quantities.\n",
    "\n",
    "This guide is intended to be used with the example raw data provided in this repository, and should be run from its original location.\n"
   ]
  },
  {
   "cell_type": "markdown",
   "metadata": {},
   "source": [
    "## 0. Imports\n",
    "Import required libraries"
   ]
  },
  {
   "cell_type": "code",
   "execution_count": null,
   "metadata": {},
   "outputs": [],
   "source": [
    "import sys, os\n",
    "from datetime import datetime\n",
    "from tqdm.notebook import tnrange\n",
    "\n",
    "# import numeric packages\n",
    "import numpy as np\n",
    "import xarray as xr\n",
    "import dask\n",
    "from dask.diagnostics import ProgressBar\n",
    "\n",
    "# plotting packages\n",
    "import matplotlib.pyplot as plt\n",
    "\n",
    "# invoke interactive matplotlib plots\n",
    "%matplotlib notebook \n",
    "\n",
    "# hextof-processor imports\n",
    "sys.path.append(os.path.dirname(os.getcwd()) ) # add hextof-processor to path\n",
    "from processor.DldFlashDataframeCreatorExpress import DldFlashProcessorExpress, DldProcessor\n",
    "from processor.utilities import calibration, diagnostics, misc, io, vis"
   ]
  },
  {
   "cell_type": "markdown",
   "metadata": {},
   "source": [
    "### 1. Read raw data and generate single event dataframe"
   ]
  },
  {
   "cell_type": "code",
   "execution_count": null,
   "metadata": {},
   "outputs": [],
   "source": [
    "# load the correct configuration for the dataset you want to read.\n",
    "# This can be different for each beamtime.\n",
    "prc = DldFlashProcessorExpress(settings = 'tutorial')\n",
    "prc.DATA_RAW_DIR = '../tutorial/raw' # manually overwrite data folder to use the tutorial dataset\n",
    "prc.DATA_PARQUET_DIR = '../tutorial/parquet' # manually overwrite parquet data folder. it is STRONGLY recomendend to use an SSD drive here.\n",
    "prc.runNumber = 22097 # run number of the example data given for this tutorial\n",
    "prc.readData() # read the raw data and generate the single event tables\n",
    "prc.storeDataframes() # store the single event tables as parquet files.    \n",
    "\n"
   ]
  },
  {
   "cell_type": "markdown",
   "metadata": {},
   "source": [
    "At this point, the prc object can be re-created using the fresh parquet dataset only. This improves memory efficiency of the overall code. However, generating the parquet intermediate format is not mandatory, and binning can be performed, on small runs, also on the raw data loaded in memory.\n",
    "\n"
   ]
  },
  {
   "cell_type": "code",
   "execution_count": null,
   "metadata": {},
   "outputs": [],
   "source": [
    "# **OPTIONAL** clear memory and load the single event tables from parquet:\n",
    "prc = DldFlashProcessor() # overwrite the processor with a fresh new instance\n",
    "prc.runNumber = 22097\n",
    "prc.DATA_PARQUET_DIR = '../tutorial/parquet' # manually overwrite parquet data folder. it is STRONGLY recomendend to use an SSD drive here.\n",
    "prc.readDataframes() # load data from single event tables saved as parquet"
   ]
  },
  {
   "cell_type": "markdown",
   "metadata": {},
   "source": [
    "## 2. Basic binning"
   ]
  },
  {
   "cell_type": "markdown",
   "metadata": {},
   "source": [
    "### 2.1 define binning range"
   ]
  },
  {
   "cell_type": "code",
   "execution_count": null,
   "metadata": {},
   "outputs": [],
   "source": [
    "# Time of flight parameters\n",
    "tof_from = 620#180\n",
    "tof_to = 660\n",
    "tof_step = 0.003 # the bigger number between this and the original step size is used in the final binning size definition.\n",
    "\n",
    "# pump-probe delay parameters\n",
    "delay_from = -517\n",
    "delay_to = -512.5\n",
    "delay_step = 0.05\n",
    "\n",
    "# detector position parameters, valid both in x and y directions\n",
    "dld_from=0\n",
    "dld_to=3000\n",
    "dld_step=30"
   ]
  },
  {
   "cell_type": "markdown",
   "metadata": {},
   "source": [
    "### 2.2 add binning parameters to the processor"
   ]
  },
  {
   "cell_type": "code",
   "execution_count": null,
   "metadata": {},
   "outputs": [],
   "source": [
    "prc.resetBins() # ensure there is no previous binning axes assigned.\n",
    "prc.addBinning('dldTime', tof_from,tof_to,tof_step);\n",
    "prc.addBinning('delayStage',delay_from,delay_to,delay_step);\n",
    "# prc.addBinning('dldPosX',dld_from,dld_to,dld_step);\n",
    "# prc.addBinning('dldPosY',dld_from,dld_to,dld_step);"
   ]
  },
  {
   "cell_type": "markdown",
   "metadata": {},
   "source": [
    "### 2.3 compute binned arrays"
   ]
  },
  {
   "cell_type": "code",
   "execution_count": null,
   "metadata": {},
   "outputs": [],
   "source": [
    "result = prc.computeBinnedData()"
   ]
  },
  {
   "cell_type": "code",
   "execution_count": null,
   "metadata": {},
   "outputs": [],
   "source": []
  },
  {
   "cell_type": "markdown",
   "metadata": {},
   "source": [
    "# 2. Binning on calibrated axes"
   ]
  },
  {
   "cell_type": "markdown",
   "metadata": {},
   "source": [
    "## 2.1 calibrate energy axis\n",
    "Create a column **Energy** in the dataframe, with the values of binding energy in eV"
   ]
  },
  {
   "cell_type": "code",
   "execution_count": null,
   "metadata": {},
   "outputs": [],
   "source": [
    "prc.calibrateEnergy(toffset=355.,eoffset=113.29,l=0.8, # parameters defined by microscope settings. See documentation for details.\n",
    "    applyJitter=True,jitterAmplitude=1,jitterType='normal')# jitter parameters used to remove artifacts."
   ]
  },
  {
   "cell_type": "markdown",
   "metadata": {},
   "source": [
    "## 2.2 calibrate pumpProbe Time\n",
    "Create a **pumpProbeTime** axis in the dataframe, by transforming stage delay values to the pump-probe corrected axis"
   ]
  },
  {
   "cell_type": "code",
   "execution_count": null,
   "metadata": {},
   "outputs": [],
   "source": [
    "prc.calibratePumpProbeTime(t0=-514.96)"
   ]
  },
  {
   "cell_type": "markdown",
   "metadata": {},
   "source": [
    "## 2.3 bin the data on the corrected axes"
   ]
  },
  {
   "cell_type": "code",
   "execution_count": null,
   "metadata": {},
   "outputs": [],
   "source": [
    "prc.resetBins()\n",
    "prc.addBinning('energy',-40,2,0.01);\n",
    "prc.addBinning('pumpProbeTime',-14,5,0.1);\n",
    "result = prc.computeBinnedData()"
   ]
  },
  {
   "cell_type": "code",
   "execution_count": null,
   "metadata": {},
   "outputs": [],
   "source": [
    "plt.figure()\n",
    "result.plot(cmap='terrain')"
   ]
  },
  {
   "cell_type": "markdown",
   "metadata": {},
   "source": [
    "## 2.3b bin the data and normalize to the delay stage histogram\n",
    "The sweeping mode of the delay stage features long stops on the edges of the scanning range, which lead to artifacts in the number of counts as function of delay stage. In order to correct for this, it is possible to bin additionally on the delay stage and normalise to this axis.\n",
    "\n",
    "***ATTENTION: this is can be computationally heavy, since it requires an additional axis on which to bin. Might fail on smaller machines.***"
   ]
  },
  {
   "cell_type": "code",
   "execution_count": null,
   "metadata": {},
   "outputs": [],
   "source": [
    "prc.resetBins()\n",
    "energy_bin_parameters = -40, 2, 0.01 # from,to and step, in eV\n",
    "time_bin_parameters = -15,6.5, 0.05 # from,to and step, in ps\n",
    "ds_min,ds_max = dask.compute(prc.dd['delayStage'].min(),prc.dd['delayStage'].max())# calculate the range of the delay Stage\n",
    "\n",
    "\n",
    "prc.addBinning('pumpProbeTime', *time_bin_parameters) # uncommenting this will allow the binning to be in time, but this cannot be performed on small memory computers.\n",
    "prc.addBinning('delayStage',ds_min,ds_max, time_bin_parameters[2]*4) # bin the full delay stage range\n",
    "prc.addBinning('energy', *energy_bin_parameters)\n",
    "\n",
    "result = prc.normalizeDelay(prc.computeBinnedData(), ax='delayStage', preserve_mean=True).sum('delayStage')\n"
   ]
  },
  {
   "cell_type": "code",
   "execution_count": null,
   "metadata": {},
   "outputs": [],
   "source": [
    "plt.figure()\n",
    "result.plot(cmap='terrain')\n",
    "edc = result.mean('pumpProbeTime')\n",
    "edc /= edc.max()\n",
    "plt.plot(edc.energy,10*edc+result.pumpProbeTime.min(),color='orange')"
   ]
  },
  {
   "cell_type": "markdown",
   "metadata": {},
   "source": [
    "## 2.5 normalize EDCs to emphasize pumpProbe effects"
   ]
  },
  {
   "cell_type": "code",
   "execution_count": null,
   "metadata": {},
   "outputs": [],
   "source": [
    "plt.figure()\n",
    "result_edcnorm = result.transpose('pumpProbeTime','energy')\n",
    "result_edcnorm.values = result_edcnorm.values / result_edcnorm.mean('energy').values[:,None]\n",
    "ext = result_edcnorm.energy[0],result_edcnorm.energy[-1],result_edcnorm.pumpProbeTime[0],result_edcnorm.pumpProbeTime[-1]\n",
    "plt.imshow(result_edcnorm,origin='lower',aspect='auto',cmap='terrain',extent=ext,clim=(0,10))"
   ]
  },
  {
   "cell_type": "markdown",
   "metadata": {},
   "source": [
    "# 3. Saving binned data\n",
    "Binned data can be saved as .h5 or tiff stacks (up to 4D)."
   ]
  },
  {
   "cell_type": "code",
   "execution_count": null,
   "metadata": {},
   "outputs": [],
   "source": [
    "io.save_binned(result_edcnorm,file_name='run22097_tutorial',path='../tutorial/raw/',format='h5')\n",
    "io.save_binned(result_edcnorm,file_name='run22097_tutorial',path='../tutorial/raw/',format='tiff')"
   ]
  },
  {
   "cell_type": "code",
   "execution_count": null,
   "metadata": {},
   "outputs": [],
   "source": []
  },
  {
   "cell_type": "code",
   "execution_count": null,
   "metadata": {},
   "outputs": [],
   "source": []
  }
 ],
 "metadata": {
  "kernelspec": {
   "display_name": "hextof-express",
   "language": "python",
   "name": "hextof-express"
  },
  "language_info": {
   "codemirror_mode": {
    "name": "ipython",
    "version": 3
   },
   "file_extension": ".py",
   "mimetype": "text/x-python",
   "name": "python",
   "nbconvert_exporter": "python",
   "pygments_lexer": "ipython3",
   "version": "3.8.10"
  }
 },
 "nbformat": 4,
 "nbformat_minor": 4
}
