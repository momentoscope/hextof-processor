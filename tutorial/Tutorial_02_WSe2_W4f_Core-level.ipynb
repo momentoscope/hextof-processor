{
 "cells": [
  {
   "cell_type": "code",
   "execution_count": null,
   "metadata": {},
   "outputs": [],
   "source": [
    "import matplotlib.pyplot as plt\n",
    "import sys, os\n",
    "import numpy as np\n",
    "import dask\n",
    "import h5py\n",
    "from pathlib import Path\n",
    "sys.path.append('../src/') # add hextof-processor to path\n",
    "from processor.DldFlashDataframeCreator import DldFlashProcessor\n",
    "from processor.utilities import misc"
   ]
  },
  {
   "cell_type": "markdown",
   "metadata": {},
   "source": [
    "# Define the binning ranges"
   ]
  },
  {
   "cell_type": "code",
   "execution_count": null,
   "metadata": {},
   "outputs": [],
   "source": [
    "# Binning parameter settings\n",
    "mb_start=100\n",
    "mb_end=399\n",
    "\n",
    "ToFfrom = 119.5\n",
    "ToFto = 124.5\n",
    "ToFstep=0.01\n",
    "\n",
    "delayFrom=-516.15\n",
    "delayTo=-512.3\n",
    "delayStep=0.02\n",
    "\n",
    "# dld parameters\n",
    "dldXFrom=30\n",
    "dldXTo=2700\n",
    "dldXStep=30\n",
    "\n",
    "# dld parameters\n",
    "dldYFrom=0\n",
    "dldYTo=2850\n",
    "dldYStep=30"
   ]
  },
  {
   "cell_type": "markdown",
   "metadata": {},
   "source": [
    "# Read the data\n",
    "## starting from the raw hdf5 files from flash\n",
    "The old data system was a little convoluted.. \n",
    "\n",
    "The data must be placed in a specific folder structure.\n",
    "the folders containing the h5 files run_191,run_192,run_193 need a specific path before them:\n",
    "the folder structure needs to be ../<data_dir>/fl1user2/online-0/run_191/*.h5\n"
   ]
  },
  {
   "cell_type": "code",
   "execution_count": null,
   "metadata": {},
   "outputs": [],
   "source": [
    "# Run no.22191\n",
    "prc = DldFlashProcessor(settings='tutorial')\n",
    "\n",
    "data_raw_dir = Path('F:/data/events/analysis_data/') # this is <data_dir>\n",
    "prc.DATA_RAW_DIR = data_raw_dir "
   ]
  },
  {
   "cell_type": "code",
   "execution_count": null,
   "metadata": {},
   "outputs": [],
   "source": [
    "misc.get_available_runs(prc.DATA_RAW_DIR)"
   ]
  },
  {
   "cell_type": "code",
   "execution_count": null,
   "metadata": {},
   "outputs": [],
   "source": [
    "prc.runNumber = 22191\n",
    "prc.readData()# VERY memory intensive (>100GB), old data structure readout is not well optimized"
   ]
  },
  {
   "cell_type": "markdown",
   "metadata": {},
   "source": [
    "# Store intermediate data as parquet files\n",
    "### this greatly increases performance and limits memory usage"
   ]
  },
  {
   "cell_type": "code",
   "execution_count": null,
   "metadata": {},
   "outputs": [],
   "source": [
    "data_parquet_dir = Path('F:/data/events/parquet/') # path where to save parquet data files\n",
    "prc.DATA_PARQUET_DIR = data_parquet_dir\n",
    "prc.storeDataframes()"
   ]
  },
  {
   "cell_type": "markdown",
   "metadata": {},
   "source": [
    "# Now load from Parquets and binn the data"
   ]
  },
  {
   "cell_type": "code",
   "execution_count": null,
   "metadata": {},
   "outputs": [],
   "source": [
    "processor = DldFlashProcessor(settings='tutorial')\n",
    "processor.runNumber = 22191\n",
    "prc.DATA_PARQUET_DIR = data_parquet_dir\n",
    "processor.readDataframes()\n",
    "\n",
    "processor.resetBins()\n",
    "ToF = processor.addBinning('dldTime', ToFfrom,ToFto,ToFstep)\n",
    "Delay = processor.addBinning('delayStage', delayFrom,delayTo,delayStep)\n",
    "processor.dd = processor.dd[((processor.dd['dldPosX']<1290)|(processor.dd['dldPosX']>1410))]\n",
    "processor.dd = processor.dd[((processor.dd['dldPosY']<1380)|(processor.dd['dldPosY']>1500))]\n",
    "processor.dd = processor.dd[((processor.dd['dldPosY']<1380)|(processor.dd['dldPosY']>1500))]\n",
    "processor.dd = processor.dd[((processor.dd['dldMicrobunchId']<=mb_end)&(processor.dd['dldMicrobunchId']>=mb_start))]\n",
    "processor.dd['delayStage'] = processor.dd['delayStage'] - processor.dd['bam']\n",
    "\n",
    "processor.shiftQuadrants()\n",
    "processor.filterCircleDLDPos()\n",
    "processor.correctSpaceCharge()\n",
    "processor.correctSpaceCharge2()\n",
    "processor.dd.dldTime=(1567*1567)/((processor.dd.dldTime-338.216)*(processor.dd.dldTime-338.216))+100-0.01\n",
    "result_low1 = processor.computeBinnedData()\n",
    "\n",
    "\n",
    "processor = DldFlashProcessor(settings='tutorial')\n",
    "processor.runNumber = 22191\n",
    "prc.DATA_PARQUET_DIR = data_parquet_dir\n",
    "processor.readDataframes()\n",
    "\n",
    "processor.resetBins()\n",
    "Delay = processor.addBinning('delayStage', delayFrom,delayTo,delayStep)\n",
    "processor.dd=processor.dd[((processor.dd['dldPosX']<1290)|(processor.dd['dldPosX']>1410))]\n",
    "processor.dd=processor.dd[((processor.dd['dldPosY']<1380)|(processor.dd['dldPosY']>1500))]\n",
    "processor.dd=processor.dd[((processor.dd['dldPosY']<1380)|(processor.dd['dldPosY']>1500))]\n",
    "processor.dd=processor.dd[((processor.dd['dldMicrobunchId']<=mb_end)&(processor.dd['dldMicrobunchId']>=mb_start))]\n",
    "processor.dd['delayStage'] = processor.dd['delayStage'] - processor.dd['bam']\n",
    "\n",
    "processor.shiftQuadrants()\n",
    "processor.filterCircleDLDPos()\n",
    "processor.correctSpaceCharge()\n",
    "processor.correctSpaceCharge2()\n",
    "processor.dd.dldTime=(1567*1567)/((processor.dd.dldTime-338.216)*(processor.dd.dldTime-338.216))+100-0.01\n",
    "processor.dd=processor.dd[((processor.dd['dldTime']<124.5)&(processor.dd['dldTime']>119.5))]\n",
    "hist_low1 = processor.computeBinnedData()"
   ]
  },
  {
   "cell_type": "markdown",
   "metadata": {},
   "source": [
    "# do the same for run 22192"
   ]
  },
  {
   "cell_type": "code",
   "execution_count": null,
   "metadata": {},
   "outputs": [],
   "source": [
    "prc = DldFlashProcessor(settings='tutorial')\n",
    "prc.DATA_RAW_DIR = data_raw_dir\n",
    "prc.DATA_PARQUET_DIR =  data_parquet_dir\n",
    "prc.runNumber = 22192\n",
    "prc.readData()\n",
    "prc.storeDataframes()"
   ]
  },
  {
   "cell_type": "code",
   "execution_count": null,
   "metadata": {},
   "outputs": [],
   "source": [
    "# Run no.22192\n",
    "processor = DldFlashProcessor(settings='tutorial')\n",
    "processor.runNumber = 22192\n",
    "prc.DATA_PARQUET_DIR = data_parquet_dir\n",
    "processor.readDataframes()\n",
    "\n",
    "processor.resetBins()\n",
    "ToF = processor.addBinning('dldTime', ToFfrom,ToFto,ToFstep)\n",
    "Delay = processor.addBinning('delayStage', delayFrom,delayTo,delayStep)\n",
    "processor.dd=processor.dd[((processor.dd['dldPosX']<1290)|(processor.dd['dldPosX']>1410))]\n",
    "processor.dd=processor.dd[((processor.dd['dldPosY']<1380)|(processor.dd['dldPosY']>1500))]\n",
    "processor.dd=processor.dd[((processor.dd['dldPosY']<1380)|(processor.dd['dldPosY']>1500))]\n",
    "processor.dd=processor.dd[((processor.dd['dldMicrobunchId']<=mb_end)&(processor.dd['dldMicrobunchId']>=mb_start))]\n",
    "processor.dd['delayStage'] = processor.dd['delayStage'] - processor.dd['bam']\n",
    "\n",
    "processor.shiftQuadrants()\n",
    "processor.filterCircleDLDPos()\n",
    "processor.correctSpaceCharge()\n",
    "processor.correctSpaceCharge2()\n",
    "processor.dd.dldTime=(1567*1567)/((processor.dd.dldTime-338.216)*(processor.dd.dldTime-338.216))+100\n",
    "result_low2 = processor.computeBinnedData()\n",
    "\n",
    "\n",
    "processor = DldFlashProcessor(settings='tutorial')\n",
    "processor.runNumber = 22192\n",
    "prc.DATA_PARQUET_DIR = data_parquet_dir\n",
    "processor.readDataframes()\n",
    "\n",
    "Delay = processor.addBinning('delayStage', delayFrom,delayTo,delayStep)\n",
    "processor.dd=processor.dd[((processor.dd['dldPosX']<1290)|(processor.dd['dldPosX']>1410))]\n",
    "processor.dd=processor.dd[((processor.dd['dldPosY']<1380)|(processor.dd['dldPosY']>1500))]\n",
    "processor.dd=processor.dd[((processor.dd['dldPosY']<1380)|(processor.dd['dldPosY']>1500))]\n",
    "processor.dd=processor.dd[((processor.dd['dldMicrobunchId']<=mb_end)&(processor.dd['dldMicrobunchId']>=mb_start))]\n",
    "processor.dd['delayStage'] = processor.dd['delayStage'] - processor.dd['bam']\n",
    "\n",
    "processor.shiftQuadrants()\n",
    "processor.filterCircleDLDPos()\n",
    "processor.correctSpaceCharge()\n",
    "processor.correctSpaceCharge2()\n",
    "processor.dd.dldTime=(1567*1567)/((processor.dd.dldTime-338.216)*(processor.dd.dldTime-338.216))+100\n",
    "processor.dd=processor.dd[((processor.dd['dldTime']<124.5)&(processor.dd['dldTime']>119.5))]\n",
    "hist_low2 = processor.computeBinnedData()"
   ]
  },
  {
   "cell_type": "markdown",
   "metadata": {},
   "source": [
    "# And do the same again for run 22193"
   ]
  },
  {
   "cell_type": "code",
   "execution_count": null,
   "metadata": {},
   "outputs": [],
   "source": [
    "prc = DldFlashProcessor(settings='tutorial')\n",
    "prc.DATA_RAW_DIR = data_raw_dir\n",
    "prc.DATA_PARQUET_DIR =  data_parquet_dir\n",
    "prc.runNumber = 22193\n",
    "prc.readData()\n",
    "prc.storeDataframes()"
   ]
  },
  {
   "cell_type": "code",
   "execution_count": null,
   "metadata": {},
   "outputs": [],
   "source": [
    "# Run no.22193\n",
    "processor = DldFlashProcessor(settings='tutorial')\n",
    "prc.DATA_PARQUET_DIR = data_parquet_dir\n",
    "processor.runNumber = 22193\n",
    "processor.readDataframes()\n",
    "\n",
    "processor.resetBins()\n",
    "ToF = processor.addBinning('dldTime', ToFfrom,ToFto,ToFstep)\n",
    "Delay = processor.addBinning('delayStage', delayFrom,delayTo,delayStep)\n",
    "processor.dd=processor.dd[((processor.dd['dldPosX']<1290)|(processor.dd['dldPosX']>1410))]\n",
    "processor.dd=processor.dd[((processor.dd['dldPosY']<1380)|(processor.dd['dldPosY']>1500))]\n",
    "processor.dd=processor.dd[((processor.dd['dldPosY']<1380)|(processor.dd['dldPosY']>1500))]\n",
    "processor.dd=processor.dd[((processor.dd['dldMicrobunchId']<=mb_end)&(processor.dd['dldMicrobunchId']>=mb_start))]\n",
    "processor.dd['delayStage'] = processor.dd['delayStage'] - processor.dd['bam']\n",
    "\n",
    "processor.shiftQuadrants()\n",
    "processor.filterCircleDLDPos()\n",
    "processor.correctSpaceCharge()\n",
    "processor.correctSpaceCharge2()\n",
    "processor.dd.dldTime=(1567*1567)/((processor.dd.dldTime-338.216)*(processor.dd.dldTime-338.216))+100\n",
    "result_low3 = processor.computeBinnedData()\n",
    "\n",
    "\n",
    "processor = DldFlashProcessor(settings='tutorial')\n",
    "prc.DATA_PARQUET_DIR = data_parquet_dir\n",
    "processor.runNumber = 22193\n",
    "processor.readDataframes()\n",
    "\n",
    "processor.resetBins()\n",
    "Delay = processor.addBinning('delayStage', delayFrom,delayTo,delayStep)\n",
    "processor.dd=processor.dd[((processor.dd['dldPosX']<1290)|(processor.dd['dldPosX']>1410))]\n",
    "processor.dd=processor.dd[((processor.dd['dldPosY']<1380)|(processor.dd['dldPosY']>1500))]\n",
    "processor.dd=processor.dd[((processor.dd['dldPosY']<1380)|(processor.dd['dldPosY']>1500))]\n",
    "processor.dd=processor.dd[((processor.dd['dldMicrobunchId']<=mb_end)&(processor.dd['dldMicrobunchId']>=mb_start))]\n",
    "processor.dd['delayStage'] = processor.dd['delayStage'] - processor.dd['bam']\n",
    "\n",
    "processor.shiftQuadrants()\n",
    "processor.filterCircleDLDPos()\n",
    "processor.correctSpaceCharge()\n",
    "processor.correctSpaceCharge2()\n",
    "processor.dd.dldTime=(1567*1567)/((processor.dd.dldTime-338.216)*(processor.dd.dldTime-338.216))+100\n",
    "processor.dd = processor.dd[((processor.dd['dldTime']<124.5)&(processor.dd['dldTime']>119.5))]\n",
    "hist_low3 = processor.computeBinnedData()"
   ]
  },
  {
   "cell_type": "code",
   "execution_count": null,
   "metadata": {},
   "outputs": [],
   "source": [
    "a = hist_low1[50:150].mean()\n",
    "b = hist_low2[50:150].mean()\n",
    "c = hist_low3[50:150].mean()\n",
    "result_norm_low1 = []\n",
    "result_norm_low2 = []\n",
    "result_norm_low3 = []\n",
    "result_norm_low1 = (result_low1/hist_low1)*a\n",
    "result_norm_low2 = (result_low2/hist_low2)*b\n",
    "result_norm_low3 = (result_low3/hist_low3)*c"
   ]
  },
  {
   "cell_type": "code",
   "execution_count": null,
   "metadata": {},
   "outputs": [],
   "source": []
  }
 ],
 "metadata": {
  "kernelspec": {
   "display_name": "Python [conda env:hextof-online]",
   "language": "python",
   "name": "conda-env-hextof-online-py"
  },
  "language_info": {
   "codemirror_mode": {
    "name": "ipython",
    "version": 3
   },
   "file_extension": ".py",
   "mimetype": "text/x-python",
   "name": "python",
   "nbconvert_exporter": "python",
   "pygments_lexer": "ipython3",
   "version": "3.7.11"
  }
 },
 "nbformat": 4,
 "nbformat_minor": 4
}
